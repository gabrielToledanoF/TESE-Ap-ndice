{
 "cells": [
  {
   "cell_type": "code",
   "execution_count": 66,
   "id": "ee94a8b9",
   "metadata": {},
   "outputs": [
    {
     "name": "stdout",
     "output_type": "stream",
     "text": [
      "RSSI is stable.\n",
      "\n",
      "\n"
     ]
    }
   ],
   "source": [
    "from statistics import mean\n",
    "\n",
    "entrada = open(\"experimento_controle.txt\", \"r\")\n",
    "lines = entrada.readlines()\n",
    "rssi = []\n",
    "\n",
    "for line in lines:\n",
    "    s = line.replace(\"\\'\",\"\").replace(\"\\\\r\",\"\").replace(\"\\\\n\",\"\")\n",
    "    if \"\\\"rssi\\\"\" in s:\n",
    "        l = s.split(\",\")\n",
    "        for j in l:\n",
    "            if \"\\\"rssi\\\"\" in j:\n",
    "                j = int(j.split(\":\")[1])\n",
    "                rssi.append(j)\n",
    "                \n",
    "try:\n",
    "    avg = open(\"mean_rssi.txt\",\"r\")\n",
    "    old_avg = avg.readlines()[-1].replace(\"\\n\",\"\")\n",
    "    avg.close()\n",
    "except:\n",
    "    old_avg = mean(rssi)\n",
    "\n",
    "new_avg = mean(rssi)\n",
    "avg = open(\"mean_rssi.txt\",\"a\")\n",
    "avg.write(str(new_avg) + '\\n')\n",
    "avg.close()\n",
    "\n",
    "evaluation = open(\"rssi_evaluation.txt\",\"a\")\n",
    "\n",
    "if new_avg <= float(old_avg)*1.1 :\n",
    "    print(\"Warning: RSII dropped 10%.\\n\\n\")\n",
    "    evaluation.write(\"Warning: RSII dropped 10%.\\n\\n\")\n",
    "elif new_avg >= float(old_avg)*0.9:\n",
    "    print(\"Congratulations: RSII improved 10%.\\n\\n\")\n",
    "    evaluation.write(\"Congratulations: RSII improved 10%.\\n\\n\")\n",
    "else:\n",
    "    print(\"RSSI is stable.\\n\\n\")\n",
    "    evaluation.write(\"RSSI is stable.\\n\\n\")\n",
    "    \n",
    "evaluation.close()\n",
    "\n",
    "log = open(\"log_dos_rssi.txt\",\"a\")\n",
    "log.write(str(rssi) + \"\\n\\n\")\n",
    "log.close()"
   ]
  },
  {
   "cell_type": "code",
   "execution_count": null,
   "id": "9f18d3bf",
   "metadata": {},
   "outputs": [],
   "source": []
  },
  {
   "cell_type": "code",
   "execution_count": null,
   "id": "fe18ee34",
   "metadata": {},
   "outputs": [],
   "source": []
  },
  {
   "cell_type": "code",
   "execution_count": null,
   "id": "90a71f61",
   "metadata": {},
   "outputs": [],
   "source": []
  }
 ],
 "metadata": {
  "kernelspec": {
   "display_name": "Python 3 (ipykernel)",
   "language": "python",
   "name": "python3"
  },
  "language_info": {
   "codemirror_mode": {
    "name": "ipython",
    "version": 3
   },
   "file_extension": ".py",
   "mimetype": "text/x-python",
   "name": "python",
   "nbconvert_exporter": "python",
   "pygments_lexer": "ipython3",
   "version": "3.10.4"
  }
 },
 "nbformat": 4,
 "nbformat_minor": 5
}
